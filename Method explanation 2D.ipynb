{
 "cells": [
  {
   "cell_type": "code",
   "execution_count": 1,
   "metadata": {
    "collapsed": true
   },
   "outputs": [],
   "source": [
    "import yaml\n",
    "import numpy as np\n",
    "import matplotlib.pyplot as plt\n",
    "from mpl_toolkits.mplot3d import Axes3D\n",
    "%matplotlib inline\n",
    "\n",
    "from scipy.interpolate import RegularGridInterpolator"
   ]
  },
  {
   "cell_type": "code",
   "execution_count": 2,
   "metadata": {
    "collapsed": false
   },
   "outputs": [],
   "source": [
    "with open('data_unequal_grid.yml', 'r') as file:\n",
    "    data = yaml.load(file)\n",
    "    \n",
    "x_reference = data['x_mephisto']\n",
    "y_reference = data['d_mephisto']\n",
    "dose_reference = data['mephisto_dose_grid']\n",
    "\n",
    "x_evaluation = data['x_monaco']\n",
    "y_evaluation = data['d_monaco']\n",
    "dose_evaluation = data['monaco_dose_grid']\n",
    "\n",
    "coords_reference = (y_reference, x_reference)\n",
    "coords_evaluation = (y_evaluation, x_evaluation)"
   ]
  },
  {
   "cell_type": "code",
   "execution_count": 3,
   "metadata": {
    "collapsed": false
   },
   "outputs": [],
   "source": [
    "reference_interpolation = RegularGridInterpolator(\n",
    "    coords_reference, dose_reference\n",
    ")"
   ]
  },
  {
   "cell_type": "code",
   "execution_count": 4,
   "metadata": {
    "collapsed": true
   },
   "outputs": [],
   "source": [
    "distance_threshold = 2\n",
    "distance_step_size = distance_threshold / 10\n",
    "\n",
    "dose_threshold = 0.02 * np.max(dose_evaluation)"
   ]
  },
  {
   "cell_type": "code",
   "execution_count": 5,
   "metadata": {
    "collapsed": false
   },
   "outputs": [
    {
     "data": {
      "text/plain": [
       "<matplotlib.text.Text at 0x7f0e6f7270b8>"
      ]
     },
     "execution_count": 5,
     "metadata": {},
     "output_type": "execute_result"
    },
    {
     "data": {
      "image/png": "[encoded data removed]",
      "text/plain": [
       "<matplotlib.figure.Figure at 0x7f0e6f17dc50>"
      ]
     },
     "metadata": {},
     "output_type": "display_data"
    }
   ],
   "source": [
    "def coords_to_check_2d(distance, step_size):\n",
    "    amount_to_check = np.floor(\n",
    "        2 * np.pi * distance / step_size) + 1\n",
    "    theta = np.linspace(0, 2*np.pi, amount_to_check + 1)[:-1:]\n",
    "    x = distance * np.cos(theta)\n",
    "    y = distance * np.sin(theta)\n",
    "    \n",
    "    return x, y\n",
    "\n",
    "for distance in np.arange(0, 2, 0.2):\n",
    "    x, y = coords_to_check_2d(distance, distance_step_size)\n",
    "    plt.scatter(x, y)\n",
    "\n",
    "plt.axis(\"equal\")\n",
    "\n",
    "plt.title('Example coordinates that would be checked')\n",
    "plt.xlabel('x')\n",
    "plt.ylabel('y')"
   ]
  },
  {
   "cell_type": "code",
   "execution_count": 7,
   "metadata": {
    "collapsed": true
   },
   "outputs": [],
   "source": [
    "y, x = coords_evaluation\n",
    "xx, yy = np.meshgrid(x, y)\n",
    "dose_evaluation = np.array(dose_evaluation)\n",
    "\n",
    "lower_dose_cutoff = np.max(dose_evaluation) * 0.2\n",
    "dose_valid = dose_evaluation > lower_dose_cutoff\n",
    "gamma_valid = np.ones_like(dose_evaluation).astype(bool)\n",
    "\n",
    "running_gamma = np.inf * np.ones_like(dose_evaluation)\n",
    "\n",
    "distance = 0"
   ]
  },
  {
   "cell_type": "code",
   "execution_count": 8,
   "metadata": {
    "collapsed": false
   },
   "outputs": [],
   "source": [
    "def find_min_dose_difference_at_distance_2d(x_test, y_test, dose_test, \n",
    "                                            distance, step_size):\n",
    "    x_shift, y_shift = coords_to_check_2d(\n",
    "        distance, step_size)\n",
    "\n",
    "    x_coords = x_test[None,:] + x_shift[:, None]\n",
    "    y_coords = y_test[None,:] + y_shift[:, None]\n",
    "    \n",
    "    all_points = np.concatenate(\n",
    "        (y_coords[:,:,None], x_coords[:,:,None]), axis=2)\n",
    "    \n",
    "    dose_difference = np.array([\n",
    "        reference_interpolation(points) - dose_test for \n",
    "        points in all_points\n",
    "    ])\n",
    "    min_dose_difference = np.min(np.abs(dose_difference), axis=0)\n",
    "    \n",
    "    return min_dose_difference\n",
    "\n",
    "\n",
    "while True:\n",
    "    x_valid = (\n",
    "        (xx > np.min(x_reference) + distance) &\n",
    "        (xx < np.max(x_reference) - distance))\n",
    "\n",
    "    y_valid = (\n",
    "        (yy > np.min(y_reference) + distance) &\n",
    "        (yy < np.max(y_reference) - distance))\n",
    "\n",
    "    to_be_checked = (\n",
    "        dose_valid & x_valid & y_valid & gamma_valid\n",
    "    )\n",
    "\n",
    "    min_dose_diff = find_min_dose_difference_at_distance_2d(\n",
    "        xx[to_be_checked], yy[to_be_checked], \n",
    "        dose_evaluation[to_be_checked], \n",
    "        distance, distance_step_size)\n",
    "\n",
    "    gamma_at_distance = np.sqrt(\n",
    "        min_dose_diff ** 2 / dose_threshold ** 2 + \n",
    "        distance **2 / distance_threshold **2)\n",
    "\n",
    "    running_gamma[to_be_checked] = np.min(\n",
    "        np.vstack((\n",
    "                gamma_at_distance, running_gamma[to_be_checked]\n",
    "            )), axis=0)\n",
    "\n",
    "    gamma_valid = running_gamma > distance / distance_threshold\n",
    "\n",
    "    distance += distance_step_size\n",
    "    \n",
    "    if np.sum(to_be_checked) == 0:\n",
    "        break"
   ]
  },
  {
   "cell_type": "code",
   "execution_count": 9,
   "metadata": {
    "collapsed": false
   },
   "outputs": [],
   "source": [
    "gamma = running_gamma[~np.isinf(running_gamma)]"
   ]
  },
  {
   "cell_type": "code",
   "execution_count": 10,
   "metadata": {
    "collapsed": false
   },
   "outputs": [
    {
     "data": {
      "image/png": "[encoded data removed]",
      "text/plain": [
       "<matplotlib.figure.Figure at 0x7f0e6f208e80>"
      ]
     },
     "metadata": {},
     "output_type": "display_data"
    }
   ],
   "source": [
    "plt.hist(gamma, 50);"
   ]
  },
  {
   "cell_type": "code",
   "execution_count": 13,
   "metadata": {
    "collapsed": false
   },
   "outputs": [
    {
     "data": {
      "text/plain": [
       "0.92167832167832164"
      ]
     },
     "execution_count": 13,
     "metadata": {},
     "output_type": "execute_result"
    }
   ],
   "source": [
    "np.sum(gamma <= 1) / len(gamma)"
   ]
  },
  {
   "cell_type": "code",
   "execution_count": 11,
   "metadata": {
    "collapsed": false
   },
   "outputs": [
    {
     "data": {
      "text/plain": [
       "<matplotlib.text.Text at 0x7f0e6f39e198>"
      ]
     },
     "execution_count": 11,
     "metadata": {},
     "output_type": "execute_result"
    },
    {
     "data": {
      "image/png": "[encoded data removed]",
      "text/plain": [
       "<matplotlib.figure.Figure at 0x7f0e6f2de198>"
      ]
     },
     "metadata": {},
     "output_type": "display_data"
    }
   ],
   "source": [
    "plt.contourf(x_evaluation, y_evaluation, running_gamma, 100)\n",
    "plt.gca().invert_yaxis()\n",
    "plt.colorbar()\n",
    "plt.xlabel('x (mm)')\n",
    "plt.ylabel('depth (mm)')"
   ]
  }
 ],
 "metadata": {
  "kernelspec": {
   "display_name": "Python 3",
   "language": "python",
   "name": "python3"
  },
  "language_info": {
   "codemirror_mode": {
    "name": "ipython",
    "version": 3
   },
   "file_extension": ".py",
   "mimetype": "text/x-python",
   "name": "python",
   "nbconvert_exporter": "python",
   "pygments_lexer": "ipython3",
   "version": "3.4.3"
  }
 },
 "nbformat": 4,
 "nbformat_minor": 0
}
