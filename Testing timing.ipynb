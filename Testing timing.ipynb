{
 "cells": [
  {
   "cell_type": "code",
   "execution_count": 1,
   "metadata": {},
   "outputs": [],
   "source": [
    "import numpy as np\n",
    "import matplotlib.pyplot as plt\n",
    "%matplotlib inline\n",
    "\n",
    "from npgamma import calc_gamma"
   ]
  },
  {
   "cell_type": "code",
   "execution_count": 2,
   "metadata": {
    "scrolled": false
   },
   "outputs": [],
   "source": [
    "grid = 0.02\n",
    "scale_factor = 1.3\n",
    "\n",
    "x = np.arange(-1.8, 1.8 + 0.001, grid)\n",
    "y = np.arange(-1.5, 1.5 + 0.001, grid)\n",
    "coords = (y, x)\n",
    "\n",
    "xx, yy = np.meshgrid(x, y)\n",
    "\n",
    "dose_ref = np.exp(-(xx**10 + yy**10))\n",
    "dose_eval = dose_ref * scale_factor"
   ]
  },
  {
   "cell_type": "markdown",
   "metadata": {},
   "source": [
    "## On a 4 core computer using more threads improves calculation speed"
   ]
  },
  {
   "cell_type": "code",
   "execution_count": 3,
   "metadata": {},
   "outputs": [
    {
     "name": "stdout",
     "output_type": "stream",
     "text": [
      "3.42 s ± 21.9 ms per loop (mean ± std. dev. of 7 runs, 1 loop each)\n"
     ]
    }
   ],
   "source": [
    "%%timeit\n",
    "\n",
    "calc_gamma(\n",
    "    coords, dose_ref,\n",
    "    coords, dose_eval,\n",
    "    0.1, 0.03, lower_dose_cutoff=0.2, \n",
    "    maximum_test_distance=0.2, num_threads=1)"
   ]
  },
  {
   "cell_type": "code",
   "execution_count": 4,
   "metadata": {},
   "outputs": [
    {
     "name": "stdout",
     "output_type": "stream",
     "text": [
      "2.88 s ± 31.7 ms per loop (mean ± std. dev. of 7 runs, 1 loop each)\n"
     ]
    }
   ],
   "source": [
    "%%timeit\n",
    "\n",
    "calc_gamma(\n",
    "    coords, dose_ref,\n",
    "    coords, dose_eval,\n",
    "    0.1, 0.03, lower_dose_cutoff=0.2, \n",
    "    maximum_test_distance=0.2, num_threads=2)"
   ]
  },
  {
   "cell_type": "code",
   "execution_count": 5,
   "metadata": {},
   "outputs": [
    {
     "name": "stdout",
     "output_type": "stream",
     "text": [
      "3.02 s ± 34.5 ms per loop (mean ± std. dev. of 7 runs, 1 loop each)\n"
     ]
    }
   ],
   "source": [
    "%%timeit\n",
    "\n",
    "calc_gamma(\n",
    "    coords, dose_ref,\n",
    "    coords, dose_eval,\n",
    "    0.1, 0.03, lower_dose_cutoff=0.2, \n",
    "    maximum_test_distance=0.2, num_threads=3)"
   ]
  },
  {
   "cell_type": "code",
   "execution_count": 6,
   "metadata": {},
   "outputs": [
    {
     "name": "stdout",
     "output_type": "stream",
     "text": [
      "3.33 s ± 27.1 ms per loop (mean ± std. dev. of 7 runs, 1 loop each)\n"
     ]
    }
   ],
   "source": [
    "%%timeit\n",
    "\n",
    "calc_gamma(\n",
    "    coords, dose_ref,\n",
    "    coords, dose_eval,\n",
    "    0.1, 0.03, lower_dose_cutoff=0.2, \n",
    "    maximum_test_distance=0.2, num_threads=4)"
   ]
  },
  {
   "cell_type": "markdown",
   "metadata": {},
   "source": [
    "## When more threads than is available is used the calculation time is longer"
   ]
  },
  {
   "cell_type": "code",
   "execution_count": 7,
   "metadata": {},
   "outputs": [
    {
     "name": "stdout",
     "output_type": "stream",
     "text": [
      "3.72 s ± 25.5 ms per loop (mean ± std. dev. of 7 runs, 1 loop each)\n"
     ]
    }
   ],
   "source": [
    "%%timeit\n",
    "\n",
    "calc_gamma(\n",
    "    coords, dose_ref,\n",
    "    coords, dose_eval,\n",
    "    0.1, 0.03, lower_dose_cutoff=0.2, \n",
    "    maximum_test_distance=0.2, num_threads=5)"
   ]
  },
  {
   "cell_type": "code",
   "execution_count": 8,
   "metadata": {},
   "outputs": [
    {
     "name": "stdout",
     "output_type": "stream",
     "text": [
      "6.2 s ± 193 ms per loop (mean ± std. dev. of 7 runs, 1 loop each)\n"
     ]
    }
   ],
   "source": [
    "%%timeit\n",
    "\n",
    "calc_gamma(\n",
    "    coords, dose_ref,\n",
    "    coords, dose_eval,\n",
    "    0.1, 0.03, lower_dose_cutoff=0.2, \n",
    "    maximum_test_distance=0.2, num_threads=10)"
   ]
  }
 ],
 "metadata": {
  "anaconda-cloud": {},
  "kernelspec": {
   "display_name": "Python 3",
   "language": "python",
   "name": "python3"
  },
  "language_info": {
   "codemirror_mode": {
    "name": "ipython",
    "version": 3
   },
   "file_extension": ".py",
   "mimetype": "text/x-python",
   "name": "python",
   "nbconvert_exporter": "python",
   "pygments_lexer": "ipython3",
   "version": "3.6.4"
  }
 },
 "nbformat": 4,
 "nbformat_minor": 1
}
