{
 "cells": [
  {
   "cell_type": "code",
   "execution_count": 1,
   "metadata": {
    "collapsed": false
   },
   "outputs": [],
   "source": [
    "import numpy as np\n",
    "import matplotlib.pyplot as plt\n",
    "%matplotlib inline\n",
    "\n",
    "from npgamma import calc_gamma"
   ]
  },
  {
   "cell_type": "code",
   "execution_count": 2,
   "metadata": {
    "collapsed": false,
    "scrolled": false
   },
   "outputs": [],
   "source": [
    "grid = 0.02\n",
    "scale_factor = 1.3\n",
    "\n",
    "x = np.arange(-1.8, 1.8 + 0.001, grid)\n",
    "y = np.arange(-1.5, 1.5 + 0.001, grid)\n",
    "coords = (y, x)\n",
    "\n",
    "xx, yy = np.meshgrid(x, y)\n",
    "\n",
    "dose_ref = np.exp(-(xx**10 + yy**10))\n",
    "dose_eval = dose_ref * scale_factor"
   ]
  },
  {
   "cell_type": "markdown",
   "metadata": {},
   "source": [
    "## On a 4 core computer using more threads improves calculation speed"
   ]
  },
  {
   "cell_type": "code",
   "execution_count": 3,
   "metadata": {
    "collapsed": false
   },
   "outputs": [
    {
     "name": "stdout",
     "output_type": "stream",
     "text": [
      "1 loop, best of 3: 1.2 s per loop\n"
     ]
    }
   ],
   "source": [
    "%%timeit\n",
    "\n",
    "calc_gamma(\n",
    "    coords, dose_ref,\n",
    "    coords, dose_eval,\n",
    "    0.1, 0.03, lower_dose_cutoff=0.2, \n",
    "    maximum_test_distance=0.2, num_threads=1)"
   ]
  },
  {
   "cell_type": "code",
   "execution_count": 4,
   "metadata": {
    "collapsed": false
   },
   "outputs": [
    {
     "name": "stdout",
     "output_type": "stream",
     "text": [
      "1 loop, best of 3: 753 ms per loop\n"
     ]
    }
   ],
   "source": [
    "%%timeit\n",
    "\n",
    "calc_gamma(\n",
    "    coords, dose_ref,\n",
    "    coords, dose_eval,\n",
    "    0.1, 0.03, lower_dose_cutoff=0.2, \n",
    "    maximum_test_distance=0.2, num_threads=2)"
   ]
  },
  {
   "cell_type": "code",
   "execution_count": 5,
   "metadata": {
    "collapsed": false
   },
   "outputs": [
    {
     "name": "stdout",
     "output_type": "stream",
     "text": [
      "1 loop, best of 3: 578 ms per loop\n"
     ]
    }
   ],
   "source": [
    "%%timeit\n",
    "\n",
    "calc_gamma(\n",
    "    coords, dose_ref,\n",
    "    coords, dose_eval,\n",
    "    0.1, 0.03, lower_dose_cutoff=0.2, \n",
    "    maximum_test_distance=0.2, num_threads=3)"
   ]
  },
  {
   "cell_type": "code",
   "execution_count": 6,
   "metadata": {
    "collapsed": false
   },
   "outputs": [
    {
     "name": "stdout",
     "output_type": "stream",
     "text": [
      "1 loop, best of 3: 548 ms per loop\n"
     ]
    }
   ],
   "source": [
    "%%timeit\n",
    "\n",
    "calc_gamma(\n",
    "    coords, dose_ref,\n",
    "    coords, dose_eval,\n",
    "    0.1, 0.03, lower_dose_cutoff=0.2, \n",
    "    maximum_test_distance=0.2, num_threads=4)"
   ]
  },
  {
   "cell_type": "markdown",
   "metadata": {},
   "source": [
    "## When more threads than is available is used the calculation time is longer"
   ]
  },
  {
   "cell_type": "code",
   "execution_count": 7,
   "metadata": {
    "collapsed": false
   },
   "outputs": [
    {
     "name": "stdout",
     "output_type": "stream",
     "text": [
      "1 loop, best of 3: 618 ms per loop\n"
     ]
    }
   ],
   "source": [
    "%%timeit\n",
    "\n",
    "calc_gamma(\n",
    "    coords, dose_ref,\n",
    "    coords, dose_eval,\n",
    "    0.1, 0.03, lower_dose_cutoff=0.2, \n",
    "    maximum_test_distance=0.2, num_threads=5)"
   ]
  },
  {
   "cell_type": "code",
   "execution_count": 8,
   "metadata": {
    "collapsed": false
   },
   "outputs": [
    {
     "name": "stdout",
     "output_type": "stream",
     "text": [
      "1 loop, best of 3: 772 ms per loop\n"
     ]
    }
   ],
   "source": [
    "%%timeit\n",
    "\n",
    "calc_gamma(\n",
    "    coords, dose_ref,\n",
    "    coords, dose_eval,\n",
    "    0.1, 0.03, lower_dose_cutoff=0.2, \n",
    "    maximum_test_distance=0.2, num_threads=10)"
   ]
  }
 ],
 "metadata": {
  "anaconda-cloud": {},
  "kernelspec": {
   "display_name": "Python [default]",
   "language": "python",
   "name": "python3"
  },
  "language_info": {
   "codemirror_mode": {
    "name": "ipython",
    "version": 3
   },
   "file_extension": ".py",
   "mimetype": "text/x-python",
   "name": "python",
   "nbconvert_exporter": "python",
   "pygments_lexer": "ipython3",
   "version": "3.5.2"
  }
 },
 "nbformat": 4,
 "nbformat_minor": 1
}
