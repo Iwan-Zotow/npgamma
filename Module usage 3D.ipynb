{
 "cells": [
  {
   "cell_type": "code",
   "execution_count": 1,
   "metadata": {
    "collapsed": false
   },
   "outputs": [],
   "source": [
    "import dicom\n",
    "import numpy as np\n",
    "import matplotlib.pyplot as plt\n",
    "%matplotlib inline\n",
    "\n",
    "from npgamma import calc_gamma"
   ]
  },
  {
   "cell_type": "code",
   "execution_count": 2,
   "metadata": {
    "collapsed": true
   },
   "outputs": [],
   "source": [
    "dcm_ref = dicom.read_file(\"data_reference.dcm\")\n",
    "dcm_evl = dicom.read_file(\"data_evaluation.dcm\")"
   ]
  },
  {
   "cell_type": "code",
   "execution_count": 3,
   "metadata": {
    "collapsed": true
   },
   "outputs": [],
   "source": [
    "# The x, y, and z defined here have not been sufficiently verified\n",
    "# They do not necessarily match either what is within Dicom nor what is within your\n",
    "# TPS. Please verify these and see if they are what you expect them to be.\n",
    "\n",
    "# If these functions are incorrect or there is a better choice of dimension definitions \n",
    "# please contact me by creating an issue within the github repository:\n",
    "#   https://github.com/SimonBiggs/npgamma/issues\n",
    "\n",
    "# If you are able to validate these functions please contact me in the same way.\n",
    "\n",
    "\n",
    "def load_dose_from_dicom(dcm):\n",
    "    \"\"\"Imports the dose in matplotlib format, with the following index mapping:\n",
    "        i = y\n",
    "        j = x\n",
    "        k = z\n",
    "    \n",
    "    Therefore when using this function to have the coords match the same order,\n",
    "    ie. coords_reference = (y, x, z)\n",
    "    \"\"\"\n",
    "    pixels = np.transpose(\n",
    "        dcm.pixel_array, (1, 2, 0))\n",
    "    dose = pixels * dcm.DoseGridScaling\n",
    "\n",
    "    return dose\n",
    "\n",
    "\n",
    "def load_xyz_from_dicom(dcm):\n",
    "    \"\"\"Although this coordinate pull from Dicom works in the scenarios tested\n",
    "    this is not an official x, y, z pull. It needs further confirmation.\n",
    "    \"\"\"\n",
    "    resolution = np.array(\n",
    "        dcm.PixelSpacing).astype(float)\n",
    "    # Does the first index match x? \n",
    "    # Haven't tested with differing grid sizes in x and y directions.\n",
    "    dx = resolution[0]\n",
    "\n",
    "    # The use of dcm.Columns here is under question\n",
    "    x = (\n",
    "        dcm.ImagePositionPatient[0] +\n",
    "        np.arange(0, dcm.Columns * dx, dx))\n",
    "\n",
    "    # Does the second index match y? \n",
    "    # Haven't tested with differing grid sizes in x and y directions.\n",
    "    dy = resolution[1]\n",
    "    \n",
    "    # The use of dcm.Rows here is under question\n",
    "    y = (\n",
    "        dcm.ImagePositionPatient[1] +\n",
    "        np.arange(0, dcm.Rows * dy, dy))\n",
    "    \n",
    "    # Is this correct?\n",
    "    z = (\n",
    "        np.array(dcm.GridFrameOffsetVector) +\n",
    "        dcm.ImagePositionPatient[2])\n",
    "\n",
    "    return x, y, z\n",
    "\n",
    "\n",
    "dose_reference = load_dose_from_dicom(dcm_ref)\n",
    "dose_evaluation = load_dose_from_dicom(dcm_evl)\n",
    "\n",
    "x_reference, y_reference, z_reference = load_xyz_from_dicom(dcm_ref)\n",
    "x_evaluation, y_evaluation, z_evaluation = load_xyz_from_dicom(dcm_evl)"
   ]
  },
  {
   "cell_type": "code",
   "execution_count": 4,
   "metadata": {
    "collapsed": false
   },
   "outputs": [],
   "source": [
    "# Input coordinates need to match the same order as the dose grid in \n",
    "# index reference order.\n",
    "\n",
    "coords_reference = (\n",
    "    y_reference, x_reference, z_reference)\n",
    "\n",
    "coords_evaluation = (\n",
    "    y_evaluation, x_evaluation, z_evaluation)"
   ]
  },
  {
   "cell_type": "code",
   "execution_count": null,
   "metadata": {
    "collapsed": false
   },
   "outputs": [],
   "source": [
    "distance_threshold = 3\n",
    "distance_step_size = distance_threshold / 10\n",
    "\n",
    "dose_threshold = 0.03 * np.max(dose_reference)\n",
    "lower_dose_cutoff = np.max(dose_reference) * 0.2\n",
    "maximum_test_distance = distance_threshold * 2\n",
    "max_concurrent_calc_points = 30000000\n",
    "num_threads = 4"
   ]
  },
  {
   "cell_type": "markdown",
   "metadata": {},
   "source": [
    "# Here starts internal function\n",
    "\n",
    "With inputs:\n",
    "\n",
    " * `coords_reference`\n",
    " * `dose_reference`\n",
    " * `coords_evaluation`\n",
    " * `dose_evaluation`\n",
    " * `distance_threshold`\n",
    " * `dose_threshold`\n",
    " * `lower_dose_cutoff=0`\n",
    " * `distance_step_size=None` (default is 1/10th of `distance_threshold`)\n",
    " * `maximum_test_distance=np.inf` (default of `np.inf` implies no maximum. Recommend using 2 * `distance_threshold`\n",
    " * `max_concurrent_calc_points=np.inf` (Use this parameter to limit the number of points per calculation set. A value of 30000000 should keep function usage under 2 GB of RAM for a 32 bit python.))\n",
    " * `num_threads=1` (Use this parameter to enable multithreading)"
   ]
  },
  {
   "cell_type": "code",
   "execution_count": 6,
   "metadata": {
    "collapsed": false
   },
   "outputs": [],
   "source": [
    "gamma = calc_gamma(\n",
    "    coords_reference, dose_reference,\n",
    "    coords_evaluation, dose_evaluation,\n",
    "    distance_threshold, dose_threshold,\n",
    "    lower_dose_cutoff=lower_dose_cutoff, \n",
    "    distance_step_size=distance_step_size,\n",
    "    maximum_test_distance=maximum_test_distance,\n",
    "    max_concurrent_calc_points=max_concurrent_calc_points,\n",
    "    num_threads=num_threads)"
   ]
  },
  {
   "cell_type": "code",
   "execution_count": 14,
   "metadata": {
    "collapsed": false
   },
   "outputs": [
    {
     "data": {
      "text/plain": [
       "(0, 2)"
      ]
     },
     "execution_count": 14,
     "metadata": {},
     "output_type": "execute_result"
    },
    {
     "data": {
      "image/png": "[encoded data removed]",
      "text/plain": [
       "<matplotlib.figure.Figure at 0x7fdc68281d68>"
      ]
     },
     "metadata": {},
     "output_type": "display_data"
    }
   ],
   "source": [
    "valid_gamma = gamma[~np.isnan(gamma)]\n",
    "valid_gamma[valid_gamma > 2] = 2\n",
    "\n",
    "plt.hist(valid_gamma, 30);\n",
    "plt.xlim([0,2])"
   ]
  },
  {
   "cell_type": "code",
   "execution_count": 9,
   "metadata": {
    "collapsed": false
   },
   "outputs": [
    {
     "data": {
      "text/plain": [
       "0.99120876106619482"
      ]
     },
     "execution_count": 9,
     "metadata": {},
     "output_type": "execute_result"
    }
   ],
   "source": [
    "np.sum(valid_gamma <= 1) / len(valid_gamma)"
   ]
  },
  {
   "cell_type": "code",
   "execution_count": 10,
   "metadata": {
    "collapsed": true
   },
   "outputs": [],
   "source": [
    "relevant_slice = (\n",
    "    np.max(dose_evaluation, axis=(0, 1)) > \n",
    "    lower_dose_cutoff)\n",
    "slice_start = np.max([\n",
    "        np.where(relevant_slice)[0][0], \n",
    "        0])\n",
    "slice_end = np.min([\n",
    "        np.where(relevant_slice)[0][-1], \n",
    "        len(z_evaluation)])"
   ]
  },
  {
   "cell_type": "code",
   "execution_count": null,
   "metadata": {
    "collapsed": false,
    "scrolled": false
   },
   "outputs": [],
   "source": [
    "max_ref_dose = np.max(dose_reference)\n",
    "\n",
    "cut_off_gamma = gamma.copy()\n",
    "greater_than_2_ref = (cut_off_gamma > 2) & ~np.isnan(cut_off_gamma)\n",
    "cut_off_gamma[greater_than_2_ref] = 2\n",
    "\n",
    "for z_i in z_evaluation[slice_start:slice_end:5]:\n",
    "    i = np.where(z_i == z_evaluation)[0][0]\n",
    "    j = np.where(z_i == z_reference)[0][0]\n",
    "    print(\"======================================================================\")\n",
    "    print(\"Slice = {0}\".format(z_i))  \n",
    "   \n",
    "    plt.contourf(\n",
    "        x_evaluation, y_evaluation, dose_evaluation[:, :, j], 30, \n",
    "        vmin=0, vmax=max_ref_dose, cmap=plt.get_cmap('gist_heat'))\n",
    "    plt.title(\"Evaluation\")\n",
    "    plt.colorbar()\n",
    "    plt.show()\n",
    "    \n",
    "    plt.contourf(\n",
    "        x_reference, y_reference, dose_reference[:, :, j], 30, \n",
    "        vmin=0, vmax=max_ref_dose, cmap=plt.get_cmap('gist_heat'))\n",
    "    plt.title(\"Reference\")  \n",
    "    plt.colorbar()\n",
    "    plt.show()\n",
    "    \n",
    "    plt.contourf(\n",
    "        x_evaluation, y_evaluation, cut_off_gamma[:, :, i], 30, \n",
    "        vmin=0, vmax=2, cmap=plt.get_cmap('bwr'))\n",
    "    plt.title(\"Gamma\")    \n",
    "    plt.colorbar()  \n",
    "    plt.show()\n",
    "    \n",
    "    print(\"\\n\")"
   ]
  }
 ],
 "metadata": {
  "anaconda-cloud": {},
  "kernelspec": {
   "display_name": "Python [default]",
   "language": "python",
   "name": "python3"
  },
  "language_info": {
   "codemirror_mode": {
    "name": "ipython",
    "version": 3
   },
   "file_extension": ".py",
   "mimetype": "text/x-python",
   "name": "python",
   "nbconvert_exporter": "python",
   "pygments_lexer": "ipython3",
   "version": "3.5.2"
  }
 },
 "nbformat": 4,
 "nbformat_minor": 0
}
