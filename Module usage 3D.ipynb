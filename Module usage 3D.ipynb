{
 "cells": [
  {
   "cell_type": "code",
   "execution_count": null,
   "metadata": {
    "collapsed": false
   },
   "outputs": [],
   "source": [
    "import dicom\n",
    "import numpy as np\n",
    "import matplotlib.pyplot as plt\n",
    "%matplotlib inline\n",
    "\n",
    "from npgamma import calc_gamma"
   ]
  },
  {
   "cell_type": "code",
   "execution_count": null,
   "metadata": {
    "collapsed": true
   },
   "outputs": [],
   "source": [
    "dcm_ref = dicom.read_file(\"data_reference.dcm\")\n",
    "dcm_evl = dicom.read_file(\"data_evaluation.dcm\")"
   ]
  },
  {
   "cell_type": "code",
   "execution_count": null,
   "metadata": {
    "collapsed": true
   },
   "outputs": [],
   "source": [
    "def load_dose_from_dicom(dcm):\n",
    "    pixel_reference = np.transpose(\n",
    "        dcm.pixel_array, (2, 1, 0))\n",
    "    dose = (\n",
    "        pixel_reference * dcm.DoseGridScaling)\n",
    "    \n",
    "    return dose\n",
    "\n",
    "\n",
    "dose_reference = load_dose_from_dicom(dcm_ref)\n",
    "dose_evaluation = load_dose_from_dicom(dcm_evl)"
   ]
  },
  {
   "cell_type": "code",
   "execution_count": null,
   "metadata": {
    "collapsed": true
   },
   "outputs": [],
   "source": [
    "def load_xyz_from_dicom(dcm):\n",
    "    resolution = np.array(\n",
    "        dcm.PixelSpacing).astype(float)\n",
    "    dx = resolution[0]\n",
    "    \n",
    "    x = (\n",
    "        dcm.ImagePositionPatient[0] + \n",
    "        np.arange(0, dcm.Rows * dx, dx))\n",
    "    \n",
    "    dy = resolution[1]\n",
    "    y = (\n",
    "        dcm.ImagePositionPatient[1] + \n",
    "        np.arange(0, dcm.Columns * dy, dy))\n",
    "    \n",
    "    z = (\n",
    "        np.array(dcm.GridFrameOffsetVector) + \n",
    "        dcm.ImagePositionPatient[2])\n",
    "    \n",
    "    return x, y, z\n",
    "\n",
    "\n",
    "x_reference, y_reference, z_reference = load_xyz_from_dicom(dcm_ref)\n",
    "x_evaluation, y_evaluation, z_evaluation = load_xyz_from_dicom(dcm_evl)"
   ]
  },
  {
   "cell_type": "code",
   "execution_count": null,
   "metadata": {
    "collapsed": false
   },
   "outputs": [],
   "source": [
    "coords_reference = (\n",
    "    x_reference, y_reference, z_reference)\n",
    "\n",
    "coords_evaluation = (\n",
    "    x_evaluation, y_evaluation, z_evaluation)"
   ]
  },
  {
   "cell_type": "code",
   "execution_count": null,
   "metadata": {
    "collapsed": true
   },
   "outputs": [],
   "source": [
    "distance_threshold = 3\n",
    "distance_step_size = distance_threshold / 10\n",
    "\n",
    "dose_threshold = 0.03 * np.max(dose_reference)\n",
    "lower_dose_cutoff = np.max(dose_reference) * 0.2\n",
    "maximum_test_distance = distance_threshold * 2"
   ]
  },
  {
   "cell_type": "markdown",
   "metadata": {},
   "source": [
    "# Here starts internal function\n",
    "\n",
    "With inputs:\n",
    "\n",
    " * `coords_reference`\n",
    " * `dose_reference`\n",
    " * `coords_evaluation`\n",
    " * `dose_evaluation`\n",
    " * `distance_threshold`\n",
    " * `dose_threshold`\n",
    " * `lower_dose_cutoff=0`\n",
    " * `distance_step_size=None` (default is 1/10th of `distance_threshold`)\n",
    " * `maximum_test_distance=np.inf` (default of `np.inf` implies no maximum. Recommend using 2 * `distance_threshold`)"
   ]
  },
  {
   "cell_type": "code",
   "execution_count": null,
   "metadata": {
    "collapsed": false
   },
   "outputs": [],
   "source": [
    "gamma = calc_gamma(\n",
    "    coords_reference, dose_reference,\n",
    "    coords_evaluation, dose_evaluation,\n",
    "    distance_threshold, dose_threshold,\n",
    "    lower_dose_cutoff=lower_dose_cutoff, \n",
    "    distance_step_size=distance_step_size,\n",
    "    maximum_test_distance=maximum_test_distance)"
   ]
  },
  {
   "cell_type": "code",
   "execution_count": null,
   "metadata": {
    "collapsed": false
   },
   "outputs": [],
   "source": [
    "valid_gamma = gamma[~np.isnan(gamma)]"
   ]
  },
  {
   "cell_type": "code",
   "execution_count": null,
   "metadata": {
    "collapsed": false
   },
   "outputs": [],
   "source": [
    "plt.hist(valid_gamma, 50);"
   ]
  },
  {
   "cell_type": "code",
   "execution_count": null,
   "metadata": {
    "collapsed": false
   },
   "outputs": [],
   "source": [
    "np.sum(valid_gamma <= 1) / len(valid_gamma)"
   ]
  },
  {
   "cell_type": "code",
   "execution_count": null,
   "metadata": {
    "collapsed": true
   },
   "outputs": [],
   "source": [
    "relevant_slice = (\n",
    "    np.max(dose_evaluation, axis=(0, 1)) > \n",
    "    lower_dose_cutoff)\n",
    "slice_start = np.max([\n",
    "        np.where(relevant_slice)[0][0], \n",
    "        0])\n",
    "slice_end = np.min([\n",
    "        np.where(relevant_slice)[0][-1], \n",
    "        len(z_evaluation)])"
   ]
  },
  {
   "cell_type": "code",
   "execution_count": null,
   "metadata": {
    "collapsed": false,
    "scrolled": false
   },
   "outputs": [],
   "source": [
    "max_ref_dose = np.max(dose_reference)\n",
    "\n",
    "cut_off_gamma = gamma.copy()\n",
    "greater_than_2_ref = (cut_off_gamma > 2) & ~np.isinf(gamma)\n",
    "cut_off_gamma[greater_than_2_ref] = 2\n",
    "\n",
    "for z_i in z_evaluation[slice_start:slice_end:5]:\n",
    "    i = np.where(z_i == z_evaluation)[0][0]\n",
    "    j = np.where(z_i == z_reference)[0][0]\n",
    "    print(\"======================================================================\")\n",
    "    print(\"Slice = {0}\".format(z_i))  \n",
    "   \n",
    "    plt.contourf(\n",
    "        x_evaluation, y_evaluation, dose_evaluation[:, :, j], 30, \n",
    "        vmin=0, vmax=max_ref_dose, cmap=plt.get_cmap('gist_heat'))\n",
    "    plt.title(\"Evaluation\")\n",
    "    plt.colorbar()\n",
    "    plt.show()\n",
    "    \n",
    "    plt.contourf(\n",
    "        x_reference, y_reference, dose_reference[:, :, j], 30, \n",
    "        vmin=0, vmax=max_ref_dose, cmap=plt.get_cmap('gist_heat'))\n",
    "    plt.title(\"Reference\")  \n",
    "    plt.colorbar()\n",
    "    plt.show()\n",
    "    \n",
    "    plt.contourf(\n",
    "        x_evaluation, y_evaluation, cut_off_gamma[:, :, i], 30, \n",
    "        vmin=0, vmax=2, cmap=plt.get_cmap('bwr'))\n",
    "    plt.title(\"Gamma\")    \n",
    "    plt.colorbar()  \n",
    "    plt.show()\n",
    "    \n",
    "    print(\"\\n\")"
   ]
  },
  {
   "cell_type": "code",
   "execution_count": null,
   "metadata": {
    "collapsed": true
   },
   "outputs": [],
   "source": []
  }
 ],
 "metadata": {
  "anaconda-cloud": {},
  "kernelspec": {
   "display_name": "Python [default]",
   "language": "python",
   "name": "python3"
  },
  "language_info": {
   "codemirror_mode": {
    "name": "ipython",
    "version": 3
   },
   "file_extension": ".py",
   "mimetype": "text/x-python",
   "name": "python",
   "nbconvert_exporter": "python",
   "pygments_lexer": "ipython3",
   "version": "3.5.2"
  }
 },
 "nbformat": 4,
 "nbformat_minor": 0
}
