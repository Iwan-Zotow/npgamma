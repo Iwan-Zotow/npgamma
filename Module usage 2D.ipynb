{
 "cells": [
  {
   "cell_type": "code",
   "execution_count": null,
   "metadata": {
    "collapsed": false
   },
   "outputs": [],
   "source": [
    "import yaml\n",
    "import numpy as np\n",
    "import matplotlib.pyplot as plt\n",
    "import matplotlib.cm as cm\n",
    "%matplotlib inline\n",
    "\n",
    "from npgamma import calc_gamma"
   ]
  },
  {
   "cell_type": "code",
   "execution_count": null,
   "metadata": {
    "collapsed": false
   },
   "outputs": [],
   "source": [
    "with open('data_unequal_grid.yml', 'r') as file:\n",
    "    data = yaml.load(file)\n",
    "    \n",
    "x_reference = data['x_mephisto']\n",
    "y_reference = data['d_mephisto']\n",
    "dose_reference = data['mephisto_dose_grid']\n",
    "\n",
    "x_evaluation = data['x_monaco']\n",
    "y_evaluation = data['d_monaco']\n",
    "dose_evaluation = data['monaco_dose_grid']\n",
    "\n",
    "coords_reference = (y_reference, x_reference)\n",
    "coords_evaluation = (y_evaluation, x_evaluation)"
   ]
  },
  {
   "cell_type": "code",
   "execution_count": null,
   "metadata": {
    "collapsed": true
   },
   "outputs": [],
   "source": [
    "distance_threshold = 2\n",
    "distance_step_size = distance_threshold / 10\n",
    "\n",
    "dose_threshold = 0.02 * np.max(dose_evaluation)\n",
    "\n",
    "lower_dose_cutoff = np.max(dose_evaluation) * 0.2"
   ]
  },
  {
   "cell_type": "code",
   "execution_count": null,
   "metadata": {
    "collapsed": false
   },
   "outputs": [],
   "source": [
    "gamma = calc_gamma(\n",
    "    coords_reference, dose_reference,\n",
    "    coords_evaluation, dose_evaluation,\n",
    "    distance_threshold, dose_threshold,\n",
    "    lower_dose_cutoff=lower_dose_cutoff, \n",
    "    distance_step_size=distance_step_size,\n",
    "    maximum_test_distance=np.inf)"
   ]
  },
  {
   "cell_type": "code",
   "execution_count": null,
   "metadata": {
    "collapsed": false
   },
   "outputs": [],
   "source": [
    "not_nan = ~np.isnan(gamma)\n",
    "valid_gamma = gamma[not_nan]"
   ]
  },
  {
   "cell_type": "code",
   "execution_count": null,
   "metadata": {
    "collapsed": false
   },
   "outputs": [],
   "source": [
    "plt.hist(valid_gamma, 50);"
   ]
  },
  {
   "cell_type": "code",
   "execution_count": null,
   "metadata": {
    "collapsed": false
   },
   "outputs": [],
   "source": [
    "np.sum(valid_gamma <= 1) / len(valid_gamma)"
   ]
  },
  {
   "cell_type": "code",
   "execution_count": null,
   "metadata": {
    "collapsed": false
   },
   "outputs": [],
   "source": [
    "dx = x_evaluation[1] - x_evaluation[0]\n",
    "x_pcolor = np.arange(x_evaluation[0]-dx/2, x_evaluation[-1] + dx, dx)\n",
    "\n",
    "dy = y_evaluation[1] - y_evaluation[0]\n",
    "y_pcolor = np.arange(y_evaluation[0]-dy/2, y_evaluation[-1] + dy, dy)\n",
    "\n",
    "cut_off_gamma = np.ma.array (gamma, mask=np.isnan(gamma))\n",
    "cmap = cm.viridis\n",
    "cmap.set_bad('white',1.)\n",
    "\n",
    "plt.pcolormesh(\n",
    "    x_pcolor, y_pcolor, cut_off_gamma, cmap=cmap, vmin=0, vmax=2)\n",
    "\n",
    "plt.gca().invert_yaxis()\n",
    "plt.colorbar()\n",
    "\n",
    "plt.xlabel('x (mm)')\n",
    "plt.ylabel('depth (mm)')"
   ]
  }
 ],
 "metadata": {
  "anaconda-cloud": {},
  "kernelspec": {
   "display_name": "Python [default]",
   "language": "python",
   "name": "python3"
  },
  "language_info": {
   "codemirror_mode": {
    "name": "ipython",
    "version": 3
   },
   "file_extension": ".py",
   "mimetype": "text/x-python",
   "name": "python",
   "nbconvert_exporter": "python",
   "pygments_lexer": "ipython3",
   "version": "3.5.2"
  }
 },
 "nbformat": 4,
 "nbformat_minor": 0
}
