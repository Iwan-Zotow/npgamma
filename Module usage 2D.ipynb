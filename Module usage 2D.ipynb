{
 "cells": [
  {
   "cell_type": "code",
   "execution_count": 25,
   "metadata": {},
   "outputs": [],
   "source": [
    "import yaml\n",
    "import numpy as np\n",
    "import matplotlib.pyplot as plt\n",
    "import matplotlib.cm as cm\n",
    "%matplotlib inline\n",
    "\n",
    "from npgamma import calc_gamma"
   ]
  },
  {
   "cell_type": "code",
   "execution_count": 26,
   "metadata": {},
   "outputs": [],
   "source": [
    "with open('data_unequal_grid.yml', 'r') as file:\n",
    "    data = yaml.load(file)\n",
    "    \n",
    "x_reference = data['x_mephisto']\n",
    "y_reference = data['d_mephisto']\n",
    "dose_reference = data['mephisto_dose_grid']\n",
    "\n",
    "x_evaluation = data['x_monaco']\n",
    "y_evaluation = data['d_monaco']\n",
    "dose_evaluation = data['monaco_dose_grid']\n",
    "\n",
    "coords_reference = (y_reference, x_reference)\n",
    "coords_evaluation = (y_evaluation, x_evaluation)"
   ]
  },
  {
   "cell_type": "code",
   "execution_count": 27,
   "metadata": {},
   "outputs": [
    {
     "name": "stdout",
     "output_type": "stream",
     "text": [
      "Reference  dimensions: 51 101 51 101\n",
      "Evaluation dimensions: 31 61 31 61\n"
     ]
    }
   ],
   "source": [
    "print(\"Reference  dimensions: {0} {1} {2} {3}\".format(len(x_reference), len(y_reference), len(dose_reference[0]), len(dose_reference)))\n",
    "print(\"Evaluation dimensions: {0} {1} {2} {3}\".format(len(x_evaluation), len(y_evaluation), len(dose_evaluation[0]), len(dose_evaluation)))"
   ]
  },
  {
   "cell_type": "code",
   "execution_count": 28,
   "metadata": {},
   "outputs": [
    {
     "name": "stdout",
     "output_type": "stream",
     "text": [
      "100.996187182 100.038456429\n"
     ]
    }
   ],
   "source": [
    "dmax_evaluation = np.max(dose_evaluation)\n",
    "dmax_reference  = np.max(dose_reference)\n",
    "print(dmax_evaluation, dmax_reference)"
   ]
  },
  {
   "cell_type": "code",
   "execution_count": 34,
   "metadata": {},
   "outputs": [
    {
     "name": "stdout",
     "output_type": "stream",
     "text": [
      "Running with 2 0.2 2.0199237436410895 20.199237436410897\n"
     ]
    }
   ],
   "source": [
    "distance_threshold = 2\n",
    "distance_step_size = distance_threshold / 10\n",
    "\n",
    "dose_threshold = 0.02 * np.max(dose_evaluation)\n",
    "\n",
    "lower_dose_cutoff = np.max(dose_evaluation) * 0.2\n",
    "\n",
    "print(\"Running with {0} {1} {2} {3}\".format(distance_threshold, distance_step_size, dose_threshold, lower_dose_cutoff))"
   ]
  },
  {
   "cell_type": "code",
   "execution_count": 30,
   "metadata": {},
   "outputs": [],
   "source": [
    "gamma = calc_gamma(\n",
    "    coords_reference, dose_reference,\n",
    "    coords_evaluation, dose_evaluation,\n",
    "    distance_threshold, dose_threshold,\n",
    "    lower_dose_cutoff=lower_dose_cutoff, \n",
    "    distance_step_size=distance_step_size,\n",
    "    maximum_test_distance=np.inf)"
   ]
  },
  {
   "cell_type": "code",
   "execution_count": 43,
   "metadata": {},
   "outputs": [
    {
     "name": "stdout",
     "output_type": "stream",
     "text": [
      "Gamma parameters: 61*31 = 1891\n",
      "0.3881544156530936\n"
     ]
    }
   ],
   "source": [
    "print(\"Gamma parameters: {0}*{1} = {2}\".format(len(gamma), len(gamma[0]), len(gamma)*len(gamma[0])))\n",
    "print(len(gamma[~np.isnan(gamma)])/float(len(gamma)*len(gamma[0])))"
   ]
  },
  {
   "cell_type": "code",
   "execution_count": 45,
   "metadata": {},
   "outputs": [
    {
     "data": {
      "text/plain": [
       "(0, 3)"
      ]
     },
     "execution_count": 45,
     "metadata": {},
     "output_type": "execute_result"
    },
    {
     "data": {
      "image/png": "[encoded data removed]",
      "text/plain": [
       "<matplotlib.figure.Figure at 0x1569f6794e0>"
      ]
     },
     "metadata": {},
     "output_type": "display_data"
    }
   ],
   "source": [
    "valid_gamma = gamma[~np.isnan(gamma)]\n",
    "valid_gamma[valid_gamma > 3] = 3\n",
    "\n",
    "plt.hist(valid_gamma, 30);\n",
    "plt.xlim([0,3])"
   ]
  },
  {
   "cell_type": "code",
   "execution_count": 46,
   "metadata": {},
   "outputs": [
    {
     "data": {
      "text/plain": [
       "0.91008174386920981"
      ]
     },
     "execution_count": 46,
     "metadata": {},
     "output_type": "execute_result"
    }
   ],
   "source": [
    "np.sum(valid_gamma <= 1) / len(valid_gamma)"
   ]
  },
  {
   "cell_type": "code",
   "execution_count": 47,
   "metadata": {},
   "outputs": [
    {
     "data": {
      "text/plain": [
       "Text(0,0.5,'depth (mm)')"
      ]
     },
     "execution_count": 47,
     "metadata": {},
     "output_type": "execute_result"
    },
    {
     "data": {
      "image/png": "[encoded data removed]",
      "text/plain": [
       "<matplotlib.figure.Figure at 0x1569f647550>"
      ]
     },
     "metadata": {},
     "output_type": "display_data"
    }
   ],
   "source": [
    "dx = x_evaluation[1] - x_evaluation[0]\n",
    "x_pcolor = np.arange(x_evaluation[0]-dx/2, x_evaluation[-1] + dx, dx)\n",
    "\n",
    "dy = y_evaluation[1] - y_evaluation[0]\n",
    "y_pcolor = np.arange(y_evaluation[0]-dy/2, y_evaluation[-1] + dy, dy)\n",
    "\n",
    "cut_off_gamma = np.ma.array(gamma, mask=np.isnan(gamma))\n",
    "cmap = cm.viridis\n",
    "cmap.set_bad('white',1.)\n",
    "\n",
    "plt.pcolormesh(x_pcolor, y_pcolor, cut_off_gamma, cmap=cmap, vmin=0, vmax=2)\n",
    "\n",
    "plt.gca().invert_yaxis()\n",
    "plt.colorbar()\n",
    "\n",
    "plt.xlabel('x (mm)')\n",
    "plt.ylabel('depth (mm)')"
   ]
  }
 ],
 "metadata": {
  "anaconda-cloud": {},
  "kernelspec": {
   "display_name": "Python 3",
   "language": "python",
   "name": "python3"
  },
  "language_info": {
   "codemirror_mode": {
    "name": "ipython",
    "version": 3
   },
   "file_extension": ".py",
   "mimetype": "text/x-python",
   "name": "python",
   "nbconvert_exporter": "python",
   "pygments_lexer": "ipython3",
   "version": "3.6.4"
  }
 },
 "nbformat": 4,
 "nbformat_minor": 1
}
